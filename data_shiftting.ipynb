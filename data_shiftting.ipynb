{
 "cells": [
  {
   "cell_type": "code",
   "execution_count": 1,
   "metadata": {},
   "outputs": [
    {
     "name": "stdout",
     "output_type": "stream",
     "text": [
      "Data saved to 'updated_dataset_with_shifted_columns.csv'\n"
     ]
    }
   ],
   "source": [
    "import pandas as pd\n",
    "\n",
    "# Load your dataset\n",
    "df = pd.read_csv('df_interpolated (2).csv')  # Replace with your actual file path\n",
    "\n",
    "# Shift the 'date' and 'gold_lkr' columns up by 30 rows\n",
    "df['date_shifted'] = df['date'].shift(-30)\n",
    "df['gold_lkr_shifted'] = df['gold_lkr'].shift(-30)\n",
    "\n",
    "# Save the updated dataframe to a new CSV file\n",
    "df.to_csv('updated_dataset_with_shifted_columns.csv', index=False)\n",
    "\n",
    "print(\"Data saved to 'updated_dataset_with_shifted_columns.csv'\")\n"
   ]
  },
  {
   "cell_type": "code",
   "execution_count": null,
   "metadata": {},
   "outputs": [],
   "source": []
  }
 ],
 "metadata": {
  "kernelspec": {
   "display_name": "Python 3",
   "language": "python",
   "name": "python3"
  },
  "language_info": {
   "codemirror_mode": {
    "name": "ipython",
    "version": 3
   },
   "file_extension": ".py",
   "mimetype": "text/x-python",
   "name": "python",
   "nbconvert_exporter": "python",
   "pygments_lexer": "ipython3",
   "version": "3.10.10"
  }
 },
 "nbformat": 4,
 "nbformat_minor": 2
}
